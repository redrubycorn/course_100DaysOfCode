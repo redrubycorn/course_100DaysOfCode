{
 "cells": [
  {
   "cell_type": "markdown",
   "id": "e9137ea9-6d89-49ed-800a-ff9acb2ae154",
   "metadata": {},
   "source": [
    "# Object Oriented Programming"
   ]
  },
  {
   "attachments": {
    "3f73e92c-e44f-4b40-b297-d6c667a9c068.png": {
     "image/png": "[encoded data removed]"
    },
    "f1b2938f-776c-4787-b365-b468febd3c7b.png": {
     "image/png": "[encoded data removed]"
    }
   },
   "cell_type": "markdown",
   "id": "ed35898d-5cb8-4b55-a14e-2e794a3432e4",
   "metadata": {},
   "source": [
    "In procedural programming, the computer is mostly working from top to bottom and then jumping out into a function as needed. For more complex programs, this way of programming quickly makes the code very complicated. Procedural programming is one of the earliest paradigms of programming. Early languages rely almost only on that principle.\r\n",
    "\r\n",
    "With object oriented programming we can write complex code in a simple way. With object oriented programming, the program is broken down into smaller modules. We basically split the tasks into smaller pieces that become reusable in the future. Object oriented programming is called that way because it is modeling objects. An object can have attributes and methods. Attributes are variables that are associated with the object. Methods are functions that a particular object can do. We can have multiple objects with the same type. So once we have setup an object, we can have multiple versions of that object. We use it like a blueprint. In OOP, we call this blueprint a class and the things generated from that blueprint we call objects.\r\n",
    "\r\n",
    "Example: Car\r\n",
    "\r\n",
    "You create an object from a class like this: `car = CarBlueprint()` With car being the variable that holds the object and `CarBlueprint()` being the class that is defined somewhere. We can import modules that contain classes that other people wrote. An example would be the turtle module. PyCharm let's us know Turtle is a class by the blue C in front \n",
    "\n",
    "![image.png](attachment:f1b2938f-776c-4787-b365-b468febd3c7b.png)\n",
    "\n",
    "We have now constructed the new object. When we print an object, we see that it is an object and at which location in the computers memory it gets saved.\n",
    "\n",
    "![image.png](attachment:3f73e92c-e44f-4b40-b297-d6c667a9c068.png)\n",
    "\n",
    "We access attributes and methods of an object with a dot like `car.color` or `car.drive()`. The code identifies the object and says get the color or do the method.of it."
   ]
  },
  {
   "cell_type": "markdown",
   "id": "c254061c-51d3-4b75-951a-29ad7d4693e7",
   "metadata": {},
   "source": [
    "## How do we create a class?"
   ]
  },
  {
   "cell_type": "markdown",
   "id": "83de35b1-f577-4b2a-91e4-f97a316e1e2d",
   "metadata": {},
   "source": [
    "The syntay is very simple:\n",
    "* You have the class keyword and then the name of the class followed by a colon\n",
    "* All the code of your class will be indented\n",
    "* For naming classes, the first letter should be capitalizedd."
   ]
  },
  {
   "cell_type": "code",
   "execution_count": 3,
   "id": "519013da-9ff5-4527-9517-a59791f93f0f",
   "metadata": {},
   "outputs": [],
   "source": [
    "class Car:\n",
    "    # here is the code of the class\n",
    "    pass"
   ]
  },
  {
   "cell_type": "code",
   "execution_count": 6,
   "id": "a977717e-3848-4a54-965d-606bf030c815",
   "metadata": {},
   "outputs": [],
   "source": [
    "car_1 = Car() # building an object called car_1 out of that class"
   ]
  },
  {
   "cell_type": "markdown",
   "id": "9d7eba83-9949-4e46-9e7e-d3484b52a6e7",
   "metadata": {},
   "source": [
    "How do we create attributes for a class?"
   ]
  },
  {
   "cell_type": "code",
   "execution_count": 8,
   "id": "77c27b20-6941-43fd-9061-75f919097ec7",
   "metadata": {},
   "outputs": [
    {
     "name": "stdout",
     "output_type": "stream",
     "text": [
      "blue\n"
     ]
    }
   ],
   "source": [
    "car_1.color = \"blue\"\n",
    "car_1.model = \"BMW\"\n",
    "\n",
    "print(car_1.color)"
   ]
  },
  {
   "cell_type": "markdown",
   "id": "8769ff89-d82b-4fed-b795-87cd7f86dc5b",
   "metadata": {},
   "source": [
    "### Constructor\n",
    "But the problem with creating attributes this way is that if we create a lot of objects from the class, it takes a lot of code and is prone to error. We can use a constructor to make this simpler. Ideally we want to specify all this starting info when we create the object from the class. We can do this with a constructor. A constructor is part of the blueprint that allows us to specify what should happen when our object is being constructed. This is also known as initializing an object. When the object is initialized, we can set variables to their starting values. In Python, we use the constructor with a special function, which is the `__init__` function."
   ]
  },
  {
   "cell_type": "code",
   "execution_count": 14,
   "id": "f659f703-7e22-439c-a78e-37b6239fc590",
   "metadata": {},
   "outputs": [
    {
     "name": "stdout",
     "output_type": "stream",
     "text": [
      "New bike is created\n"
     ]
    }
   ],
   "source": [
    "class Bike:\n",
    "    def __init__(self, color, model):\n",
    "        self.color = color\n",
    "        self.model = model\n",
    "        self.kilometers = 0 # attribute with a default value\n",
    "        print(\"New bike is created\")\n",
    "\n",
    "bike_1 = Bike(color=\"blue\", model=\"Gravelbike\")"
   ]
  },
  {
   "cell_type": "code",
   "execution_count": 15,
   "id": "b3d3bd06-750a-4ac0-977a-77c96c791e03",
   "metadata": {},
   "outputs": [
    {
     "name": "stdout",
     "output_type": "stream",
     "text": [
      "Gravelbike\n",
      "0\n"
     ]
    }
   ],
   "source": [
    "print(bike_1.model)\n",
    "print(bike_1.kilometers)"
   ]
  },
  {
   "cell_type": "markdown",
   "id": "c254848b-24d0-47b0-9939-55f8721d7175",
   "metadata": {},
   "source": [
    "### Create methods"
   ]
  },
  {
   "cell_type": "markdown",
   "id": "d271d8a0-9733-4058-896b-12a82751405e",
   "metadata": {},
   "source": [
    "Attributes are the things that an object has and methods are the things that an object does. Inside the class declaration, we have a function which is called methods in classes."
   ]
  },
  {
   "cell_type": "code",
   "execution_count": 24,
   "id": "73c89daf-14fd-4291-a868-9ddd75046555",
   "metadata": {},
   "outputs": [],
   "source": [
    "class User:\n",
    "    def __init__(self, user_id, username):\n",
    "        self.id = id\n",
    "        self.username = username\n",
    "        self.followers = 0\n",
    "        self.following = 0\n",
    "    def follow(self, user):\n",
    "        user.followers += 1\n",
    "        self.following += 1"
   ]
  },
  {
   "cell_type": "code",
   "execution_count": 25,
   "id": "8dcf7560-0685-4d10-a21d-867ffa0a860b",
   "metadata": {},
   "outputs": [],
   "source": [
    "user_1 = User(\"001\", \"james\")\n",
    "user_2 = User(\"002\", \"lilly\")"
   ]
  },
  {
   "cell_type": "code",
   "execution_count": 27,
   "id": "321346af-583e-44fa-9806-cf58a1e45346",
   "metadata": {},
   "outputs": [
    {
     "name": "stdout",
     "output_type": "stream",
     "text": [
      "User_1 followers: 0.\n",
      "User_1 following: 2.\n"
     ]
    }
   ],
   "source": [
    "user_1.follow(user=user_2)\n",
    "\n",
    "print(f\"User_1 followers: {user_1.followers}.\")\n",
    "print(f\"User_1 following: {user_1.following}.\")"
   ]
  },
  {
   "cell_type": "code",
   "execution_count": 28,
   "id": "d1c62896-9e0b-42f4-82f5-94938163fc31",
   "metadata": {},
   "outputs": [
    {
     "name": "stdout",
     "output_type": "stream",
     "text": [
      "User_2 followers: 2.\n",
      "User_2 following: 0.\n"
     ]
    }
   ],
   "source": [
    "print(f\"User_2 followers: {user_2.followers}.\")\n",
    "print(f\"User_2 following: {user_2.following}.\")"
   ]
  },
  {
   "cell_type": "code",
   "execution_count": null,
   "id": "66841d58-cee4-4313-a6c7-fdd7858971d7",
   "metadata": {},
   "outputs": [],
   "source": []
  }
 ],
 "metadata": {
  "kernelspec": {
   "display_name": "course_100DaysOfCode",
   "language": "python",
   "name": "course_100daysofcode"
  },
  "language_info": {
   "codemirror_mode": {
    "name": "ipython",
    "version": 3
   },
   "file_extension": ".py",
   "mimetype": "text/x-python",
   "name": "python",
   "nbconvert_exporter": "python",
   "pygments_lexer": "ipython3",
   "version": "3.8.19"
  }
 },
 "nbformat": 4,
 "nbformat_minor": 5
}
